{
 "cells": [
  {
   "cell_type": "code",
   "execution_count": 2,
   "metadata": {},
   "outputs": [],
   "source": [
    "import pandas as pd"
   ]
  },
  {
   "cell_type": "code",
   "execution_count": 3,
   "metadata": {},
   "outputs": [],
   "source": [
    "data = pd.read_csv('car_data.csv')"
   ]
  },
  {
   "cell_type": "code",
   "execution_count": 4,
   "metadata": {},
   "outputs": [
    {
     "output_type": "execute_result",
     "data": {
      "text/plain": "     symboling normalized-losses         make fuel-type aspiration  \\\n0            3                 ?  alfa-romero       gas        std   \n1            3                 ?  alfa-romero       gas        std   \n2            1                 ?  alfa-romero       gas        std   \n3            2               164         audi       gas        std   \n4            2               164         audi       gas        std   \n..         ...               ...          ...       ...        ...   \n200         -1                95        volvo       gas        std   \n201         -1                95        volvo       gas      turbo   \n202         -1                95        volvo       gas        std   \n203         -1                95        volvo    diesel      turbo   \n204         -1                95        volvo       gas      turbo   \n\n    num-of-doors   body-style drive-wheels engine-location  wheel-base  ...  \\\n0            two  convertible          rwd           front        88.6  ...   \n1            two  convertible          rwd           front        88.6  ...   \n2            two    hatchback          rwd           front        94.5  ...   \n3           four        sedan          fwd           front        99.8  ...   \n4           four        sedan          4wd           front        99.4  ...   \n..           ...          ...          ...             ...         ...  ...   \n200         four        sedan          rwd           front       109.1  ...   \n201         four        sedan          rwd           front       109.1  ...   \n202         four        sedan          rwd           front       109.1  ...   \n203         four        sedan          rwd           front       109.1  ...   \n204         four        sedan          rwd           front       109.1  ...   \n\n     engine-size  fuel-system  bore  stroke compression-ratio horsepower  \\\n0            130         mpfi  3.47    2.68               9.0        111   \n1            130         mpfi  3.47    2.68               9.0        111   \n2            152         mpfi  2.68    3.47               9.0        154   \n3            109         mpfi  3.19     3.4              10.0        102   \n4            136         mpfi  3.19     3.4               8.0        115   \n..           ...          ...   ...     ...               ...        ...   \n200          141         mpfi  3.78    3.15               9.5        114   \n201          141         mpfi  3.78    3.15               8.7        160   \n202          173         mpfi  3.58    2.87               8.8        134   \n203          145          idi  3.01     3.4              23.0        106   \n204          141         mpfi  3.78    3.15               9.5        114   \n\n     peak-rpm city-mpg highway-mpg  price  \n0        5000       21          27  13495  \n1        5000       21          27  16500  \n2        5000       19          26  16500  \n3        5500       24          30  13950  \n4        5500       18          22  17450  \n..        ...      ...         ...    ...  \n200      5400       23          28  16845  \n201      5300       19          25  19045  \n202      5500       18          23  21485  \n203      4800       26          27  22470  \n204      5400       19          25  22625  \n\n[205 rows x 26 columns]",
      "text/html": "<div>\n<style scoped>\n    .dataframe tbody tr th:only-of-type {\n        vertical-align: middle;\n    }\n\n    .dataframe tbody tr th {\n        vertical-align: top;\n    }\n\n    .dataframe thead th {\n        text-align: right;\n    }\n</style>\n<table border=\"1\" class=\"dataframe\">\n  <thead>\n    <tr style=\"text-align: right;\">\n      <th></th>\n      <th>symboling</th>\n      <th>normalized-losses</th>\n      <th>make</th>\n      <th>fuel-type</th>\n      <th>aspiration</th>\n      <th>num-of-doors</th>\n      <th>body-style</th>\n      <th>drive-wheels</th>\n      <th>engine-location</th>\n      <th>wheel-base</th>\n      <th>...</th>\n      <th>engine-size</th>\n      <th>fuel-system</th>\n      <th>bore</th>\n      <th>stroke</th>\n      <th>compression-ratio</th>\n      <th>horsepower</th>\n      <th>peak-rpm</th>\n      <th>city-mpg</th>\n      <th>highway-mpg</th>\n      <th>price</th>\n    </tr>\n  </thead>\n  <tbody>\n    <tr>\n      <th>0</th>\n      <td>3</td>\n      <td>?</td>\n      <td>alfa-romero</td>\n      <td>gas</td>\n      <td>std</td>\n      <td>two</td>\n      <td>convertible</td>\n      <td>rwd</td>\n      <td>front</td>\n      <td>88.6</td>\n      <td>...</td>\n      <td>130</td>\n      <td>mpfi</td>\n      <td>3.47</td>\n      <td>2.68</td>\n      <td>9.0</td>\n      <td>111</td>\n      <td>5000</td>\n      <td>21</td>\n      <td>27</td>\n      <td>13495</td>\n    </tr>\n    <tr>\n      <th>1</th>\n      <td>3</td>\n      <td>?</td>\n      <td>alfa-romero</td>\n      <td>gas</td>\n      <td>std</td>\n      <td>two</td>\n      <td>convertible</td>\n      <td>rwd</td>\n      <td>front</td>\n      <td>88.6</td>\n      <td>...</td>\n      <td>130</td>\n      <td>mpfi</td>\n      <td>3.47</td>\n      <td>2.68</td>\n      <td>9.0</td>\n      <td>111</td>\n      <td>5000</td>\n      <td>21</td>\n      <td>27</td>\n      <td>16500</td>\n    </tr>\n    <tr>\n      <th>2</th>\n      <td>1</td>\n      <td>?</td>\n      <td>alfa-romero</td>\n      <td>gas</td>\n      <td>std</td>\n      <td>two</td>\n      <td>hatchback</td>\n      <td>rwd</td>\n      <td>front</td>\n      <td>94.5</td>\n      <td>...</td>\n      <td>152</td>\n      <td>mpfi</td>\n      <td>2.68</td>\n      <td>3.47</td>\n      <td>9.0</td>\n      <td>154</td>\n      <td>5000</td>\n      <td>19</td>\n      <td>26</td>\n      <td>16500</td>\n    </tr>\n    <tr>\n      <th>3</th>\n      <td>2</td>\n      <td>164</td>\n      <td>audi</td>\n      <td>gas</td>\n      <td>std</td>\n      <td>four</td>\n      <td>sedan</td>\n      <td>fwd</td>\n      <td>front</td>\n      <td>99.8</td>\n      <td>...</td>\n      <td>109</td>\n      <td>mpfi</td>\n      <td>3.19</td>\n      <td>3.4</td>\n      <td>10.0</td>\n      <td>102</td>\n      <td>5500</td>\n      <td>24</td>\n      <td>30</td>\n      <td>13950</td>\n    </tr>\n    <tr>\n      <th>4</th>\n      <td>2</td>\n      <td>164</td>\n      <td>audi</td>\n      <td>gas</td>\n      <td>std</td>\n      <td>four</td>\n      <td>sedan</td>\n      <td>4wd</td>\n      <td>front</td>\n      <td>99.4</td>\n      <td>...</td>\n      <td>136</td>\n      <td>mpfi</td>\n      <td>3.19</td>\n      <td>3.4</td>\n      <td>8.0</td>\n      <td>115</td>\n      <td>5500</td>\n      <td>18</td>\n      <td>22</td>\n      <td>17450</td>\n    </tr>\n    <tr>\n      <th>...</th>\n      <td>...</td>\n      <td>...</td>\n      <td>...</td>\n      <td>...</td>\n      <td>...</td>\n      <td>...</td>\n      <td>...</td>\n      <td>...</td>\n      <td>...</td>\n      <td>...</td>\n      <td>...</td>\n      <td>...</td>\n      <td>...</td>\n      <td>...</td>\n      <td>...</td>\n      <td>...</td>\n      <td>...</td>\n      <td>...</td>\n      <td>...</td>\n      <td>...</td>\n      <td>...</td>\n    </tr>\n    <tr>\n      <th>200</th>\n      <td>-1</td>\n      <td>95</td>\n      <td>volvo</td>\n      <td>gas</td>\n      <td>std</td>\n      <td>four</td>\n      <td>sedan</td>\n      <td>rwd</td>\n      <td>front</td>\n      <td>109.1</td>\n      <td>...</td>\n      <td>141</td>\n      <td>mpfi</td>\n      <td>3.78</td>\n      <td>3.15</td>\n      <td>9.5</td>\n      <td>114</td>\n      <td>5400</td>\n      <td>23</td>\n      <td>28</td>\n      <td>16845</td>\n    </tr>\n    <tr>\n      <th>201</th>\n      <td>-1</td>\n      <td>95</td>\n      <td>volvo</td>\n      <td>gas</td>\n      <td>turbo</td>\n      <td>four</td>\n      <td>sedan</td>\n      <td>rwd</td>\n      <td>front</td>\n      <td>109.1</td>\n      <td>...</td>\n      <td>141</td>\n      <td>mpfi</td>\n      <td>3.78</td>\n      <td>3.15</td>\n      <td>8.7</td>\n      <td>160</td>\n      <td>5300</td>\n      <td>19</td>\n      <td>25</td>\n      <td>19045</td>\n    </tr>\n    <tr>\n      <th>202</th>\n      <td>-1</td>\n      <td>95</td>\n      <td>volvo</td>\n      <td>gas</td>\n      <td>std</td>\n      <td>four</td>\n      <td>sedan</td>\n      <td>rwd</td>\n      <td>front</td>\n      <td>109.1</td>\n      <td>...</td>\n      <td>173</td>\n      <td>mpfi</td>\n      <td>3.58</td>\n      <td>2.87</td>\n      <td>8.8</td>\n      <td>134</td>\n      <td>5500</td>\n      <td>18</td>\n      <td>23</td>\n      <td>21485</td>\n    </tr>\n    <tr>\n      <th>203</th>\n      <td>-1</td>\n      <td>95</td>\n      <td>volvo</td>\n      <td>diesel</td>\n      <td>turbo</td>\n      <td>four</td>\n      <td>sedan</td>\n      <td>rwd</td>\n      <td>front</td>\n      <td>109.1</td>\n      <td>...</td>\n      <td>145</td>\n      <td>idi</td>\n      <td>3.01</td>\n      <td>3.4</td>\n      <td>23.0</td>\n      <td>106</td>\n      <td>4800</td>\n      <td>26</td>\n      <td>27</td>\n      <td>22470</td>\n    </tr>\n    <tr>\n      <th>204</th>\n      <td>-1</td>\n      <td>95</td>\n      <td>volvo</td>\n      <td>gas</td>\n      <td>turbo</td>\n      <td>four</td>\n      <td>sedan</td>\n      <td>rwd</td>\n      <td>front</td>\n      <td>109.1</td>\n      <td>...</td>\n      <td>141</td>\n      <td>mpfi</td>\n      <td>3.78</td>\n      <td>3.15</td>\n      <td>9.5</td>\n      <td>114</td>\n      <td>5400</td>\n      <td>19</td>\n      <td>25</td>\n      <td>22625</td>\n    </tr>\n  </tbody>\n</table>\n<p>205 rows × 26 columns</p>\n</div>"
     },
     "metadata": {},
     "execution_count": 4
    }
   ],
   "source": [
    "data"
   ]
  },
  {
   "cell_type": "code",
   "execution_count": 5,
   "metadata": {},
   "outputs": [
    {
     "output_type": "execute_result",
     "data": {
      "text/plain": "<bound method DataFrame.info of      symboling normalized-losses         make fuel-type aspiration  \\\n0            3                 ?  alfa-romero       gas        std   \n1            3                 ?  alfa-romero       gas        std   \n2            1                 ?  alfa-romero       gas        std   \n3            2               164         audi       gas        std   \n4            2               164         audi       gas        std   \n..         ...               ...          ...       ...        ...   \n200         -1                95        volvo       gas        std   \n201         -1                95        volvo       gas      turbo   \n202         -1                95        volvo       gas        std   \n203         -1                95        volvo    diesel      turbo   \n204         -1                95        volvo       gas      turbo   \n\n    num-of-doors   body-style drive-wheels engine-location  wheel-base  ...  \\\n0            two  convertible          rwd           front        88.6  ...   \n1            two  convertible          rwd           front        88.6  ...   \n2            two    hatchback          rwd           front        94.5  ...   \n3           four        sedan          fwd           front        99.8  ...   \n4           four        sedan          4wd           front        99.4  ...   \n..           ...          ...          ...             ...         ...  ...   \n200         four        sedan          rwd           front       109.1  ...   \n201         four        sedan          rwd           front       109.1  ...   \n202         four        sedan          rwd           front       109.1  ...   \n203         four        sedan          rwd           front       109.1  ...   \n204         four        sedan          rwd           front       109.1  ...   \n\n     engine-size  fuel-system  bore  stroke compression-ratio horsepower  \\\n0            130         mpfi  3.47    2.68               9.0        111   \n1            130         mpfi  3.47    2.68               9.0        111   \n2            152         mpfi  2.68    3.47               9.0        154   \n3            109         mpfi  3.19     3.4              10.0        102   \n4            136         mpfi  3.19     3.4               8.0        115   \n..           ...          ...   ...     ...               ...        ...   \n200          141         mpfi  3.78    3.15               9.5        114   \n201          141         mpfi  3.78    3.15               8.7        160   \n202          173         mpfi  3.58    2.87               8.8        134   \n203          145          idi  3.01     3.4              23.0        106   \n204          141         mpfi  3.78    3.15               9.5        114   \n\n     peak-rpm city-mpg highway-mpg  price  \n0        5000       21          27  13495  \n1        5000       21          27  16500  \n2        5000       19          26  16500  \n3        5500       24          30  13950  \n4        5500       18          22  17450  \n..        ...      ...         ...    ...  \n200      5400       23          28  16845  \n201      5300       19          25  19045  \n202      5500       18          23  21485  \n203      4800       26          27  22470  \n204      5400       19          25  22625  \n\n[205 rows x 26 columns]>"
     },
     "metadata": {},
     "execution_count": 5
    }
   ],
   "source": [
    "data.info"
   ]
  },
  {
   "cell_type": "code",
   "execution_count": 6,
   "metadata": {},
   "outputs": [],
   "source": [
    "car_list = data[['make','fuel-type', 'aspiration','num-of-doors','body-style','drive-wheels','engine-location','horsepower','city-mpg','highway-mpg','price']]"
   ]
  },
  {
   "cell_type": "code",
   "execution_count": 7,
   "metadata": {},
   "outputs": [],
   "source": [
    "pd.set_option('display.max_columns',26)\n",
    "pd.set_option('display.max_rows',100)"
   ]
  },
  {
   "cell_type": "code",
   "execution_count": 8,
   "metadata": {},
   "outputs": [
    {
     "output_type": "execute_result",
     "data": {
      "text/plain": "            make fuel-type aspiration num-of-doors   body-style drive-wheels  \\\n0    alfa-romero       gas        std          two  convertible          rwd   \n1    alfa-romero       gas        std          two  convertible          rwd   \n2    alfa-romero       gas        std          two    hatchback          rwd   \n3           audi       gas        std         four        sedan          fwd   \n4           audi       gas        std         four        sedan          4wd   \n..           ...       ...        ...          ...          ...          ...   \n200        volvo       gas        std         four        sedan          rwd   \n201        volvo       gas      turbo         four        sedan          rwd   \n202        volvo       gas        std         four        sedan          rwd   \n203        volvo    diesel      turbo         four        sedan          rwd   \n204        volvo       gas      turbo         four        sedan          rwd   \n\n    engine-location horsepower  city-mpg  highway-mpg  price  \n0             front        111        21           27  13495  \n1             front        111        21           27  16500  \n2             front        154        19           26  16500  \n3             front        102        24           30  13950  \n4             front        115        18           22  17450  \n..              ...        ...       ...          ...    ...  \n200           front        114        23           28  16845  \n201           front        160        19           25  19045  \n202           front        134        18           23  21485  \n203           front        106        26           27  22470  \n204           front        114        19           25  22625  \n\n[205 rows x 11 columns]",
      "text/html": "<div>\n<style scoped>\n    .dataframe tbody tr th:only-of-type {\n        vertical-align: middle;\n    }\n\n    .dataframe tbody tr th {\n        vertical-align: top;\n    }\n\n    .dataframe thead th {\n        text-align: right;\n    }\n</style>\n<table border=\"1\" class=\"dataframe\">\n  <thead>\n    <tr style=\"text-align: right;\">\n      <th></th>\n      <th>make</th>\n      <th>fuel-type</th>\n      <th>aspiration</th>\n      <th>num-of-doors</th>\n      <th>body-style</th>\n      <th>drive-wheels</th>\n      <th>engine-location</th>\n      <th>horsepower</th>\n      <th>city-mpg</th>\n      <th>highway-mpg</th>\n      <th>price</th>\n    </tr>\n  </thead>\n  <tbody>\n    <tr>\n      <th>0</th>\n      <td>alfa-romero</td>\n      <td>gas</td>\n      <td>std</td>\n      <td>two</td>\n      <td>convertible</td>\n      <td>rwd</td>\n      <td>front</td>\n      <td>111</td>\n      <td>21</td>\n      <td>27</td>\n      <td>13495</td>\n    </tr>\n    <tr>\n      <th>1</th>\n      <td>alfa-romero</td>\n      <td>gas</td>\n      <td>std</td>\n      <td>two</td>\n      <td>convertible</td>\n      <td>rwd</td>\n      <td>front</td>\n      <td>111</td>\n      <td>21</td>\n      <td>27</td>\n      <td>16500</td>\n    </tr>\n    <tr>\n      <th>2</th>\n      <td>alfa-romero</td>\n      <td>gas</td>\n      <td>std</td>\n      <td>two</td>\n      <td>hatchback</td>\n      <td>rwd</td>\n      <td>front</td>\n      <td>154</td>\n      <td>19</td>\n      <td>26</td>\n      <td>16500</td>\n    </tr>\n    <tr>\n      <th>3</th>\n      <td>audi</td>\n      <td>gas</td>\n      <td>std</td>\n      <td>four</td>\n      <td>sedan</td>\n      <td>fwd</td>\n      <td>front</td>\n      <td>102</td>\n      <td>24</td>\n      <td>30</td>\n      <td>13950</td>\n    </tr>\n    <tr>\n      <th>4</th>\n      <td>audi</td>\n      <td>gas</td>\n      <td>std</td>\n      <td>four</td>\n      <td>sedan</td>\n      <td>4wd</td>\n      <td>front</td>\n      <td>115</td>\n      <td>18</td>\n      <td>22</td>\n      <td>17450</td>\n    </tr>\n    <tr>\n      <th>...</th>\n      <td>...</td>\n      <td>...</td>\n      <td>...</td>\n      <td>...</td>\n      <td>...</td>\n      <td>...</td>\n      <td>...</td>\n      <td>...</td>\n      <td>...</td>\n      <td>...</td>\n      <td>...</td>\n    </tr>\n    <tr>\n      <th>200</th>\n      <td>volvo</td>\n      <td>gas</td>\n      <td>std</td>\n      <td>four</td>\n      <td>sedan</td>\n      <td>rwd</td>\n      <td>front</td>\n      <td>114</td>\n      <td>23</td>\n      <td>28</td>\n      <td>16845</td>\n    </tr>\n    <tr>\n      <th>201</th>\n      <td>volvo</td>\n      <td>gas</td>\n      <td>turbo</td>\n      <td>four</td>\n      <td>sedan</td>\n      <td>rwd</td>\n      <td>front</td>\n      <td>160</td>\n      <td>19</td>\n      <td>25</td>\n      <td>19045</td>\n    </tr>\n    <tr>\n      <th>202</th>\n      <td>volvo</td>\n      <td>gas</td>\n      <td>std</td>\n      <td>four</td>\n      <td>sedan</td>\n      <td>rwd</td>\n      <td>front</td>\n      <td>134</td>\n      <td>18</td>\n      <td>23</td>\n      <td>21485</td>\n    </tr>\n    <tr>\n      <th>203</th>\n      <td>volvo</td>\n      <td>diesel</td>\n      <td>turbo</td>\n      <td>four</td>\n      <td>sedan</td>\n      <td>rwd</td>\n      <td>front</td>\n      <td>106</td>\n      <td>26</td>\n      <td>27</td>\n      <td>22470</td>\n    </tr>\n    <tr>\n      <th>204</th>\n      <td>volvo</td>\n      <td>gas</td>\n      <td>turbo</td>\n      <td>four</td>\n      <td>sedan</td>\n      <td>rwd</td>\n      <td>front</td>\n      <td>114</td>\n      <td>19</td>\n      <td>25</td>\n      <td>22625</td>\n    </tr>\n  </tbody>\n</table>\n<p>205 rows × 11 columns</p>\n</div>"
     },
     "metadata": {},
     "execution_count": 8
    }
   ],
   "source": [
    "car_list"
   ]
  },
  {
   "cell_type": "code",
   "execution_count": 9,
   "metadata": {},
   "outputs": [
    {
     "output_type": "stream",
     "name": "stdout",
     "text": "\nDatabase accessed!\n\n"
    }
   ],
   "source": [
    "import sqlite3\n",
    "conn = sqlite3.connect('cars.db')\n",
    "print(\"\\nDatabase accessed!\\n\")\n",
    "\n",
    "c = conn.cursor()\n",
    "\n",
    "car_list.to_sql('Cars', conn, if_exists='replace', index=False)\n",
    "conn.commit()\n",
    "conn.close()"
   ]
  },
  {
   "cell_type": "code",
   "execution_count": 10,
   "metadata": {},
   "outputs": [
    {
     "output_type": "stream",
     "name": "stdout",
     "text": "\nDatabase accessed!\n\n            make fuel-type aspiration num-of-doors   body-style drive-wheels  \\\n0    alfa-romero       gas        std          two  convertible          rwd   \n1    alfa-romero       gas        std          two  convertible          rwd   \n2    alfa-romero       gas        std          two    hatchback          rwd   \n3           audi       gas        std         four        sedan          fwd   \n4           audi       gas        std         four        sedan          4wd   \n..           ...       ...        ...          ...          ...          ...   \n200        volvo       gas        std         four        sedan          rwd   \n201        volvo       gas      turbo         four        sedan          rwd   \n202        volvo       gas        std         four        sedan          rwd   \n203        volvo    diesel      turbo         four        sedan          rwd   \n204        volvo       gas      turbo         four        sedan          rwd   \n\n    engine-location horsepower  city-mpg  highway-mpg  price  \n0             front        111        21           27  13495  \n1             front        111        21           27  16500  \n2             front        154        19           26  16500  \n3             front        102        24           30  13950  \n4             front        115        18           22  17450  \n..              ...        ...       ...          ...    ...  \n200           front        114        23           28  16845  \n201           front        160        19           25  19045  \n202           front        134        18           23  21485  \n203           front        106        26           27  22470  \n204           front        114        19           25  22625  \n\n[205 rows x 11 columns]\n"
    }
   ],
   "source": [
    "import sqlite3\n",
    "conn = sqlite3.connect('cars.db')\n",
    "print(\"\\nDatabase accessed!\\n\")\n",
    "\n",
    "sql_query = pd.read_sql_query(''' Select * from  Cars''',conn)\n",
    "\n",
    "df = pd.DataFrame(sql_query, columns=['make','fuel-type', 'aspiration','num-of-doors','body-style','drive-wheels','engine-location','horsepower','city-mpg','highway-mpg','price'])\n",
    "print(df)"
   ]
  },
  {
   "cell_type": "code",
   "execution_count": 11,
   "metadata": {},
   "outputs": [
    {
     "output_type": "execute_result",
     "data": {
      "text/plain": "'/Users/adityatiwari/Desktop/Python/CarWarehouse/Version_3'"
     },
     "metadata": {},
     "execution_count": 11
    }
   ],
   "source": [
    "pwd"
   ]
  },
  {
   "cell_type": "code",
   "execution_count": null,
   "metadata": {},
   "outputs": [],
   "source": []
  }
 ],
 "metadata": {
  "language_info": {
   "codemirror_mode": {
    "name": "ipython",
    "version": 3
   },
   "file_extension": ".py",
   "mimetype": "text/x-python",
   "name": "python",
   "nbconvert_exporter": "python",
   "pygments_lexer": "ipython3",
   "version": "3.8.3-final"
  },
  "orig_nbformat": 2,
  "kernelspec": {
   "name": "python38364bit054245dcf21e4c25b7b8d8cc669b6593",
   "display_name": "Python 3.8.3 64-bit"
  }
 },
 "nbformat": 4,
 "nbformat_minor": 2
}